{
 "cells": [
  {
   "cell_type": "code",
   "execution_count": 65,
   "metadata": {},
   "outputs": [],
   "source": [
    "import numpy as np\n",
    "from copy import deepcopy\n",
    "from typing import Literal"
   ]
  },
  {
   "cell_type": "code",
   "execution_count": 66,
   "metadata": {},
   "outputs": [
    {
     "data": {
      "text/plain": [
       "array([[ 2.,  1.,  3.,  1.,  1.],\n",
       "       [-2., -4.,  2.,  1.,  1.],\n",
       "       [ 4.,  5.,  2.,  1.,  1.]])"
      ]
     },
     "execution_count": 66,
     "metadata": {},
     "output_type": "execute_result"
    }
   ],
   "source": [
    "sample_matrix = np.array([[2, 1, 3], [-2, -4, 2], [4, 5, 2]])\n",
    "answers_matrix = np.ones((3, 2))\n",
    "aug_matrix = sample_matrix\n",
    "aug_matrix = np.hstack((sample_matrix, answers_matrix))\n",
    "aug_matrix"
   ]
  },
  {
   "cell_type": "markdown",
   "metadata": {},
   "source": [
    "Sure, here is a step-by-step instruction to create a reduced row echelon form (RREF) of a matrix:\n",
    "\n",
    "1. **Write the matrix in its augmented form.** The augmented form of a matrix is the matrix with the right-hand side vector appended to the right of the coefficient matrix. This is helpful because it allows you to solve the system of linear equations that the matrix represents at the same time that you are reducing the matrix to RREF.\n",
    "\n",
    "2. **Swap rows if necessary.** If the first row of the matrix does not have a leading entry (a non-zero entry in the first column), then swap the first row with another row that does have a leading entry. This will ensure that there is always a leading entry in the first row.\n",
    "\n",
    "3. **Eliminate all non-zero entries in the first column below the leading entry in the first row.** To do this, multiply the first row by the appropriate scalar and add it to the rows below it in such a way that the entries in the first column below the leading entry become zero.\n",
    "\n",
    "4. **Repeat steps 3 and 4 for the second row and second column, the third row and third column, and so on.** This will ensure that there are leading entries in all of the rows, and that the leading entries are strictly to the right of the leading entries in the rows above them.\n",
    "\n",
    "5. **Normalize the leading entries.** Divide each row by its leading entry so that the leading entries are all equal to 1.\n",
    "\n",
    "6. **Clear all other entries in the columns containing leading entries.** To do this, multiply each row by the appropriate scalar and add it to the rows below it in such a way that the entries in the columns containing leading entries become zero.\n",
    "\n",
    "7. **Check that the matrix is in RREF.** The matrix is in RREF if it satisfies all of the following conditions:\n",
    "\n",
    "-   Leading entries are non-zero and strictly to the right of the leading entries in the rows above them.\n",
    "-   Rows consisting only of zeros are at the bottom of the matrix.\n",
    "-   Leading entries are 1s.\n",
    "-   All other entries in the same column as a leading entry are 0.\n",
    "\n",
    "If the matrix does not satisfy all of these conditions, then repeat steps 2-6 until it does.\n",
    "\n",
    "This process will always work to create an RREF of the matrix, regardless of the initial matrix.\n",
    "\n",
    "I hope this helps!\n"
   ]
  },
  {
   "cell_type": "code",
   "execution_count": null,
   "metadata": {},
   "outputs": [],
   "source": [
    "def step2(aug_matrix : np.ndarray):\n",
    "    if aug_matrix[0, 0] == 0:\n",
    "        index_of_first_other_row_with_leading_entry = None \n",
    "        for row_index in range(1 , len(aug_matrix) -1 ):\n",
    "            if aug_matrix[row_index][0] != 0 :\n",
    "                index_of_first_other_row_with_leading_entry = row_index\n",
    "        if index_of_first_other_row_with_leading_entry == None :\n",
    "            raise ValueError('Step 2 could not be done. first row does not have a leading entry and there is no other row with a leading entry to swap with it')\n",
    "        else :\n",
    "            aug_matrix[[0,index_of_first_other_row_with_leading_entry]] = aug_matrix[[index_of_first_other_row_with_leading_entry, 0 ]]\n",
    "def step3(aug_matrix : np.ndarray):\n",
    "    for row in \n",
    "def rref(aug_matrix: np.ndarray):\n",
    "    # step one is already done in our function\n",
    "    step2(aug_matrix)\n",
    "\n"
   ]
  }
 ],
 "metadata": {
  "kernelspec": {
   "display_name": "base",
   "language": "python",
   "name": "python3"
  },
  "language_info": {
   "codemirror_mode": {
    "name": "ipython",
    "version": 3
   },
   "file_extension": ".py",
   "mimetype": "text/x-python",
   "name": "python",
   "nbconvert_exporter": "python",
   "pygments_lexer": "ipython3",
   "version": "3.11.4"
  }
 },
 "nbformat": 4,
 "nbformat_minor": 2
}
