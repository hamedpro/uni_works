{
 "cells": [
  {
   "cell_type": "code",
   "execution_count": 1,
   "metadata": {},
   "outputs": [],
   "source": [
    "from sympy.abc import a, b, c\n",
    "from sympy import And, Interval, reduce_inequalities, satisfiable\n",
    "import sympy as smp\n",
    "x = smp.symbols('x', real=True, positive=True, domain=Interval(5, smp.oo))\n",
    "basic_deg_2 = (a * x ** 2 + b * x + c)"
   ]
  },
  {
   "cell_type": "code",
   "execution_count": 6,
   "metadata": {},
   "outputs": [
    {
     "data": {
      "text/latex": [
       "$\\displaystyle \\text{True}$"
      ],
      "text/plain": [
       "True"
      ]
     },
     "execution_count": 6,
     "metadata": {},
     "output_type": "execute_result"
    }
   ],
   "source": [
    "ineq1 = (basic_deg_2.subs(x, x + 1) - basic_deg_2) <= 0\n",
    "# smp.solve(ineq1, [x], domain=smp.Interval(2, smp.oo))\n",
    "solution = smp.solve(ineq1, x, domain=smp.Interval(2, smp.oo))\n",
    "solution = solution.subs(a, -5)\n",
    "solution = solution.subs(b, 3)\n",
    "solution"
   ]
  },
  {
   "cell_type": "code",
   "execution_count": 3,
   "metadata": {},
   "outputs": [
    {
     "ename": "NameError",
     "evalue": "name 'q1' is not defined",
     "output_type": "error",
     "traceback": [
      "\u001b[0;31m---------------------------------------------------------------------------\u001b[0m",
      "\u001b[0;31mNameError\u001b[0m                                 Traceback (most recent call last)",
      "\u001b[1;32m/Users/hamedpro/uni/uni_works/term3/q4.ipynb Cell 3\u001b[0m line \u001b[0;36m3\n\u001b[1;32m      <a href='vscode-notebook-cell:/Users/hamedpro/uni/uni_works/term3/q4.ipynb#W3sZmlsZQ%3D%3D?line=0'>1</a>\u001b[0m \u001b[39mfrom\u001b[39;00m \u001b[39msympy\u001b[39;00m \u001b[39mimport\u001b[39;00m Interval\n\u001b[0;32m----> <a href='vscode-notebook-cell:/Users/hamedpro/uni/uni_works/term3/q4.ipynb#W3sZmlsZQ%3D%3D?line=2'>3</a>\u001b[0m q2 \u001b[39m=\u001b[39m \u001b[39m-\u001b[39mq1\n\u001b[1;32m      <a href='vscode-notebook-cell:/Users/hamedpro/uni/uni_works/term3/q4.ipynb#W3sZmlsZQ%3D%3D?line=3'>4</a>\u001b[0m reduced_for_a \u001b[39m=\u001b[39m reduce_inequalities(\u001b[39m-\u001b[39mq1 \u001b[39m<\u001b[39m\u001b[39m=\u001b[39m \u001b[39m0\u001b[39m, a)\n\u001b[1;32m      <a href='vscode-notebook-cell:/Users/hamedpro/uni/uni_works/term3/q4.ipynb#W3sZmlsZQ%3D%3D?line=4'>5</a>\u001b[0m reduced_for_b \u001b[39m=\u001b[39m reduce_inequalities(reduced_for_a, b)\n",
      "\u001b[0;31mNameError\u001b[0m: name 'q1' is not defined"
     ]
    }
   ],
   "source": [
    "from sympy import Interval\n",
    "\n",
    "q2 = -q1\n",
    "reduced_for_a = reduce_inequalities(-q1 <= 0, a)\n",
    "reduced_for_b = reduce_inequalities(reduced_for_a, b)\n",
    "reduced_for_b"
   ]
  }
 ],
 "metadata": {
  "kernelspec": {
   "display_name": "base",
   "language": "python",
   "name": "python3"
  },
  "language_info": {
   "codemirror_mode": {
    "name": "ipython",
    "version": 3
   },
   "file_extension": ".py",
   "mimetype": "text/x-python",
   "name": "python",
   "nbconvert_exporter": "python",
   "pygments_lexer": "ipython3",
   "version": "3.11.4"
  }
 },
 "nbformat": 4,
 "nbformat_minor": 2
}
