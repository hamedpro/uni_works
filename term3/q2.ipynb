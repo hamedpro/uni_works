{
 "cells": [
  {
   "cell_type": "code",
   "execution_count": 1,
   "metadata": {},
   "outputs": [],
   "source": [
    "from math import log2\n",
    "import sympy as smp\n",
    "x = smp.symbols('x', real=True)"
   ]
  },
  {
   "cell_type": "code",
   "execution_count": 2,
   "metadata": {},
   "outputs": [],
   "source": [
    "def check_big_theta(gx, fx):\n",
    "    check1 = smp.limit(fx / gx, x, smp.oo) != smp.oo\n",
    "    check2 = smp.limit(gx / fx, x, smp.oo) != smp.oo\n",
    "    return \"verified\" if check1 and check2 else \"not verified\""
   ]
  },
  {
   "cell_type": "code",
   "execution_count": 3,
   "metadata": {},
   "outputs": [
    {
     "data": {
      "text/plain": [
       "'verified'"
      ]
     },
     "execution_count": 3,
     "metadata": {},
     "output_type": "execute_result"
    }
   ],
   "source": [
    "'''part 2'''\n",
    "fx = 2 * x + smp.log(x, 2) + 3\n",
    "gx = 2 * x\n",
    "check_big_theta(fx, gx)"
   ]
  },
  {
   "cell_type": "code",
   "execution_count": 6,
   "metadata": {},
   "outputs": [
    {
     "data": {
      "text/plain": [
       "'verified'"
      ]
     },
     "execution_count": 6,
     "metadata": {},
     "output_type": "execute_result"
    }
   ],
   "source": [
    "'''part 1'''\n",
    "fx = x ** smp.log(x, 2)\n",
    "gx = x ** 1.5\n",
    "check_big_theta(fx, gx)"
   ]
  },
  {
   "cell_type": "code",
   "execution_count": 8,
   "metadata": {},
   "outputs": [
    {
     "data": {
      "text/plain": [
       "'not verified'"
      ]
     },
     "execution_count": 8,
     "metadata": {},
     "output_type": "execute_result"
    }
   ],
   "source": [
    "\"\"\" part 6 \"\"\"\n",
    "fx = smp.factorial(smp.log(x, 2))\n",
    "gx = (x / 5) ** 2\n",
    "check_big_theta(fx, gx)"
   ]
  },
  {
   "cell_type": "code",
   "execution_count": 7,
   "metadata": {},
   "outputs": [
    {
     "data": {
      "text/plain": [
       "'verified'"
      ]
     },
     "execution_count": 7,
     "metadata": {},
     "output_type": "execute_result"
    }
   ],
   "source": [
    "\"\"\" part 5 \"\"\"\n",
    "fx = smp.log(smp.factorial(x), 2)\n",
    "gx = x * smp.log(x, 2)\n",
    "check_big_theta(fx, gx)"
   ]
  }
 ],
 "metadata": {
  "kernelspec": {
   "display_name": "base",
   "language": "python",
   "name": "python3"
  },
  "language_info": {
   "codemirror_mode": {
    "name": "ipython",
    "version": 3
   },
   "file_extension": ".py",
   "mimetype": "text/x-python",
   "name": "python",
   "nbconvert_exporter": "python",
   "pygments_lexer": "ipython3",
   "version": "3.11.4"
  }
 },
 "nbformat": 4,
 "nbformat_minor": 2
}
