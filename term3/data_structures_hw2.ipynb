{
 "cells": [
  {
   "cell_type": "code",
   "execution_count": 1,
   "metadata": {},
   "outputs": [],
   "source": [
    "from typing import Any\n",
    "import matplotlib.pyplot as plt\n",
    "import numpy as np\n",
    "from random import shuffle"
   ]
  },
  {
   "cell_type": "code",
   "execution_count": 2,
   "metadata": {},
   "outputs": [],
   "source": [
    "class Node:\n",
    "    data: Any\n",
    "    next: Any = None\n",
    "    previous: Any = None\n",
    "\n",
    "    def __init__(self, data):\n",
    "        self.data = data"
   ]
  },
  {
   "cell_type": "code",
   "execution_count": 3,
   "metadata": {},
   "outputs": [],
   "source": [
    "class DoublyLinkedList:\n",
    "    cost = 0\n",
    "    replace_position_counts = 0\n",
    "    head = None\n",
    "\n",
    "    def insertAtEnd(self, new_node: Node):\n",
    "        if self.head is None:\n",
    "            self.head = new_node\n",
    "            return\n",
    "\n",
    "        current_node = self.head\n",
    "        while (current_node.next):\n",
    "            current_node = current_node.next\n",
    "        new_node.previous = current_node\n",
    "        current_node.next = new_node\n",
    "\n",
    "    def insertAtBegin(self, node: Node):\n",
    "        if self.head is None:\n",
    "            self.head = node\n",
    "            return\n",
    "        node.next = self.head\n",
    "        self.head.previous = node\n",
    "        self.head = node\n",
    "\n",
    "    def access(self, data):\n",
    "        if self.head == None:\n",
    "            raise LookupError(\n",
    "                'this linked list is empty.')\n",
    "        current_node = self.head\n",
    "        cursor = 1\n",
    "        while (current_node):\n",
    "            if current_node.data == data:\n",
    "                self.cost += cursor\n",
    "                return current_node\n",
    "            else:\n",
    "                current_node = current_node.next\n",
    "                cursor += 1\n",
    "        raise LookupError('there is no such thing.')\n",
    "\n",
    "    def deleteItem(self, node: Node):\n",
    "        if not node.previous is None:\n",
    "            node.previous.next = node.next\n",
    "        if not node.next is None:\n",
    "            node.next.previous = node.previous"
   ]
  },
  {
   "cell_type": "code",
   "execution_count": 4,
   "metadata": {},
   "outputs": [],
   "source": [
    "class SmartDoublyLinkedList(DoublyLinkedList):\n",
    "    def access(self, data):\n",
    "        if self.head == None:\n",
    "            raise LookupError(\n",
    "                'this linked list is empty.')\n",
    "        current_node = self.head\n",
    "        cursor = 1\n",
    "        while (current_node):\n",
    "            if current_node.data == data:\n",
    "                self.cost += cursor\n",
    "                self.deleteItem(current_node)\n",
    "                self.insertAtBegin(current_node)\n",
    "                self.replace_position_counts += 1\n",
    "                return current_node\n",
    "            else:\n",
    "                current_node = current_node.next\n",
    "                cursor += 1\n",
    "        raise LookupError('there is no such thing.')"
   ]
  },
  {
   "cell_type": "code",
   "execution_count": 5,
   "metadata": {},
   "outputs": [],
   "source": [
    "def cost(linked_list, access_items_sequence: list[int]):\n",
    "    for item in access_items_sequence:\n",
    "        linked_list.access(item)\n",
    "    return linked_list.cost"
   ]
  },
  {
   "cell_type": "code",
   "execution_count": 6,
   "metadata": {},
   "outputs": [],
   "source": [
    "# q1\n",
    "n = 10000\n",
    "items = list(range(1, n + 1))\n",
    "shuffle(items)\n",
    "\n",
    "llist_classes = [DoublyLinkedList, SmartDoublyLinkedList]\n",
    "\n",
    "access_items_sequences = [list(range(1, n + 1)), [], []]\n",
    "\n",
    "for i in range(1, 11):\n",
    "    for j in range(1000):\n",
    "        access_items_sequences[1].append(i)\n",
    "\n",
    "np.random.seed(0)\n",
    "access_items_sequences[2] = np.random.normal(5000, 1000, size=10000)\n",
    "access_items_sequences[2] = access_items_sequences[2].round(\n",
    "    decimals=0, out=None)\n",
    "access_items_sequences[2] = abs(access_items_sequences[2])\n",
    "access_items_sequences[2] = access_items_sequences[2][access_items_sequences[2] < n]"
   ]
  },
  {
   "cell_type": "code",
   "execution_count": 7,
   "metadata": {},
   "outputs": [
    {
     "name": "stdout",
     "output_type": "stream",
     "text": [
      "llist class 1 - items_sequence 1 : 50005000 with 0 replaces\n",
      "llist class 1 - items_sequence 2 : 46889000 with 0 replaces\n",
      "llist class 1 - items_sequence 3 : 49965307 with 0 replaces\n",
      "llist class 2 - items_sequence 1 : 74949158 with 10000 replaces\n"
     ]
    },
    {
     "ename": "KeyboardInterrupt",
     "evalue": "",
     "output_type": "error",
     "traceback": [
      "\u001b[0;31m---------------------------------------------------------------------------\u001b[0m",
      "\u001b[0;31mKeyboardInterrupt\u001b[0m                         Traceback (most recent call last)",
      "\u001b[1;32m/Users/hamedpro/Documents/uni/uni_works/term3/data_structures_hw2.ipynb Cell 7\u001b[0m line \u001b[0;36m7\n\u001b[1;32m      <a href='vscode-notebook-cell:/Users/hamedpro/Documents/uni/uni_works/term3/data_structures_hw2.ipynb#W6sZmlsZQ%3D%3D?line=3'>4</a>\u001b[0m \u001b[39mfor\u001b[39;00m n \u001b[39min\u001b[39;00m items:\n\u001b[1;32m      <a href='vscode-notebook-cell:/Users/hamedpro/Documents/uni/uni_works/term3/data_structures_hw2.ipynb#W6sZmlsZQ%3D%3D?line=4'>5</a>\u001b[0m     linked_list\u001b[39m.\u001b[39minsertAtEnd(Node(n))\n\u001b[1;32m      <a href='vscode-notebook-cell:/Users/hamedpro/Documents/uni/uni_works/term3/data_structures_hw2.ipynb#W6sZmlsZQ%3D%3D?line=5'>6</a>\u001b[0m \u001b[39mprint\u001b[39m(\n\u001b[0;32m----> <a href='vscode-notebook-cell:/Users/hamedpro/Documents/uni/uni_works/term3/data_structures_hw2.ipynb#W6sZmlsZQ%3D%3D?line=6'>7</a>\u001b[0m     \u001b[39mf\u001b[39m\u001b[39m\"\u001b[39m\u001b[39mllist class \u001b[39m\u001b[39m{\u001b[39;00mllist_class_index\u001b[39m \u001b[39m\u001b[39m+\u001b[39m\u001b[39m \u001b[39m\u001b[39m1\u001b[39m\u001b[39m}\u001b[39;00m\u001b[39m - items_sequence \u001b[39m\u001b[39m{\u001b[39;00mitems_sequence_index\u001b[39m \u001b[39m\u001b[39m+\u001b[39m\u001b[39m1\u001b[39m\u001b[39m \u001b[39m\u001b[39m}\u001b[39;00m\u001b[39m : \u001b[39m\u001b[39m{\u001b[39;00mcost(linked_list,access_items_sequences[items_sequence_index]\u001b[39m \u001b[39m)\u001b[39m}\u001b[39;00m\u001b[39m with \u001b[39m\u001b[39m{\u001b[39;00mlinked_list\u001b[39m.\u001b[39mreplace_position_counts\u001b[39m}\u001b[39;00m\u001b[39m replaces\u001b[39m\u001b[39m\"\u001b[39m)\n",
      "\u001b[1;32m/Users/hamedpro/Documents/uni/uni_works/term3/data_structures_hw2.ipynb Cell 7\u001b[0m line \u001b[0;36m3\n\u001b[1;32m      <a href='vscode-notebook-cell:/Users/hamedpro/Documents/uni/uni_works/term3/data_structures_hw2.ipynb#W6sZmlsZQ%3D%3D?line=0'>1</a>\u001b[0m \u001b[39mdef\u001b[39;00m \u001b[39mcost\u001b[39m(linked_list, access_items_sequence: \u001b[39mlist\u001b[39m[\u001b[39mint\u001b[39m]):\n\u001b[1;32m      <a href='vscode-notebook-cell:/Users/hamedpro/Documents/uni/uni_works/term3/data_structures_hw2.ipynb#W6sZmlsZQ%3D%3D?line=1'>2</a>\u001b[0m     \u001b[39mfor\u001b[39;00m item \u001b[39min\u001b[39;00m access_items_sequence:\n\u001b[0;32m----> <a href='vscode-notebook-cell:/Users/hamedpro/Documents/uni/uni_works/term3/data_structures_hw2.ipynb#W6sZmlsZQ%3D%3D?line=2'>3</a>\u001b[0m         linked_list\u001b[39m.\u001b[39maccess(item)\n\u001b[1;32m      <a href='vscode-notebook-cell:/Users/hamedpro/Documents/uni/uni_works/term3/data_structures_hw2.ipynb#W6sZmlsZQ%3D%3D?line=3'>4</a>\u001b[0m     \u001b[39mreturn\u001b[39;00m linked_list\u001b[39m.\u001b[39mcost\n",
      "\u001b[1;32m/Users/hamedpro/Documents/uni/uni_works/term3/data_structures_hw2.ipynb Cell 7\u001b[0m line \u001b[0;36m8\n\u001b[1;32m      <a href='vscode-notebook-cell:/Users/hamedpro/Documents/uni/uni_works/term3/data_structures_hw2.ipynb#W6sZmlsZQ%3D%3D?line=5'>6</a>\u001b[0m current_node \u001b[39m=\u001b[39m \u001b[39mself\u001b[39m\u001b[39m.\u001b[39mhead\n\u001b[1;32m      <a href='vscode-notebook-cell:/Users/hamedpro/Documents/uni/uni_works/term3/data_structures_hw2.ipynb#W6sZmlsZQ%3D%3D?line=6'>7</a>\u001b[0m cursor \u001b[39m=\u001b[39m \u001b[39m1\u001b[39m\n\u001b[0;32m----> <a href='vscode-notebook-cell:/Users/hamedpro/Documents/uni/uni_works/term3/data_structures_hw2.ipynb#W6sZmlsZQ%3D%3D?line=7'>8</a>\u001b[0m \u001b[39mwhile\u001b[39;00m (current_node):\n\u001b[1;32m      <a href='vscode-notebook-cell:/Users/hamedpro/Documents/uni/uni_works/term3/data_structures_hw2.ipynb#W6sZmlsZQ%3D%3D?line=8'>9</a>\u001b[0m     \u001b[39mif\u001b[39;00m current_node\u001b[39m.\u001b[39mdata \u001b[39m==\u001b[39m data:\n\u001b[1;32m     <a href='vscode-notebook-cell:/Users/hamedpro/Documents/uni/uni_works/term3/data_structures_hw2.ipynb#W6sZmlsZQ%3D%3D?line=9'>10</a>\u001b[0m         \u001b[39mself\u001b[39m\u001b[39m.\u001b[39mcost \u001b[39m+\u001b[39m\u001b[39m=\u001b[39m cursor\n",
      "\u001b[0;31mKeyboardInterrupt\u001b[0m: "
     ]
    }
   ],
   "source": [
    "for llist_class_index in range(len(llist_classes)):\n",
    "    for items_sequence_index in range(len(access_items_sequences)):\n",
    "        linked_list = llist_classes[llist_class_index]()\n",
    "        for n in items:\n",
    "            linked_list.insertAtEnd(Node(n))\n",
    "        print(\n",
    "            f\"llist class {llist_class_index + 1} - items_sequence {items_sequence_index +1 } : {cost(linked_list,access_items_sequences[items_sequence_index] )} with {linked_list.replace_position_counts} replaces\")"
   ]
  }
 ],
 "metadata": {
  "kernelspec": {
   "display_name": "base",
   "language": "python",
   "name": "python3"
  },
  "language_info": {
   "codemirror_mode": {
    "name": "ipython",
    "version": 3
   },
   "file_extension": ".py",
   "mimetype": "text/x-python",
   "name": "python",
   "nbconvert_exporter": "python",
   "pygments_lexer": "ipython3",
   "version": "3.11.4"
  }
 },
 "nbformat": 4,
 "nbformat_minor": 2
}
