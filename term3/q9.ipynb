{
 "cells": [
  {
   "cell_type": "code",
   "execution_count": 2,
   "metadata": {},
   "outputs": [],
   "source": [
    "import numpy as np"
   ]
  },
  {
   "cell_type": "code",
   "execution_count": 5,
   "metadata": {},
   "outputs": [
    {
     "name": "stderr",
     "output_type": "stream",
     "text": [
      "/var/folders/5m/6v_j220n22bb87r95fz9mkhr0000gn/T/ipykernel_96735/1223784648.py:1: DeprecationWarning: This function is deprecated. Please call randint(0, 1000 + 1) instead\n",
      "  sorted(np.random.random_integers(0, 1000, 5))\n"
     ]
    },
    {
     "data": {
      "text/plain": [
       "[312, 503, 562, 842, 988]"
      ]
     },
     "execution_count": 5,
     "metadata": {},
     "output_type": "execute_result"
    }
   ],
   "source": [
    "sorted(np.random.random_integers(0, 1000, 5))"
   ]
  },
  {
   "cell_type": "code",
   "execution_count": 4,
   "metadata": {},
   "outputs": [
    {
     "ename": "TypeError",
     "evalue": "random_integers() takes at least 1 positional argument (0 given)",
     "output_type": "error",
     "traceback": [
      "\u001b[0;31m---------------------------------------------------------------------------\u001b[0m",
      "\u001b[0;31mTypeError\u001b[0m                                 Traceback (most recent call last)",
      "\u001b[1;32m/Users/hamedpro/uni/uni_works/term3/q9.ipynb Cell 3\u001b[0m line \u001b[0;36m4\n\u001b[1;32m     <a href='vscode-notebook-cell:/Users/hamedpro/uni/uni_works/term3/q9.ipynb#W0sZmlsZQ%3D%3D?line=39'>40</a>\u001b[0m results \u001b[39m=\u001b[39m []\n\u001b[1;32m     <a href='vscode-notebook-cell:/Users/hamedpro/uni/uni_works/term3/q9.ipynb#W0sZmlsZQ%3D%3D?line=40'>41</a>\u001b[0m \u001b[39mfor\u001b[39;00m i \u001b[39min\u001b[39;00m \u001b[39mrange\u001b[39m(\u001b[39m10000\u001b[39m):\n\u001b[0;32m---> <a href='vscode-notebook-cell:/Users/hamedpro/uni/uni_works/term3/q9.ipynb#W0sZmlsZQ%3D%3D?line=41'>42</a>\u001b[0m     l1 \u001b[39m=\u001b[39m np\u001b[39m.\u001b[39mrandom\u001b[39m.\u001b[39mrandom_integers()\n\u001b[1;32m     <a href='vscode-notebook-cell:/Users/hamedpro/uni/uni_works/term3/q9.ipynb#W0sZmlsZQ%3D%3D?line=42'>43</a>\u001b[0m     find_mean_of_union()\n",
      "File \u001b[0;32mmtrand.pyx:1272\u001b[0m, in \u001b[0;36mnumpy.random.mtrand.RandomState.random_integers\u001b[0;34m()\u001b[0m\n",
      "\u001b[0;31mTypeError\u001b[0m: random_integers() takes at least 1 positional argument (0 given)"
     ]
    }
   ],
   "source": [
    "def find_mean_of_union(x, y):\n",
    "    \"\"\"Finds the mean of the union of two sorted lists.\n",
    "\n",
    "    Args:\n",
    "      x: A sorted list.\n",
    "      y: A sorted list.\n",
    "\n",
    "    Returns:\n",
    "      The mean of the union of the two lists.\n",
    "    \"\"\"\n",
    "\n",
    "    # Initialize the pointers.\n",
    "    ptr_x = 0\n",
    "    ptr_y = 0\n",
    "\n",
    "    # Iterate over the two lists simultaneously.\n",
    "    while ptr_x < len(x) and ptr_y < len(y):\n",
    "        if x[ptr_x] <= y[ptr_y]:\n",
    "            mean = (x[ptr_x] + y[ptr_y]) / 2\n",
    "        else:\n",
    "            mean = y[ptr_y]\n",
    "\n",
    "        # Increment the pointers.\n",
    "        ptr_x += 1\n",
    "        ptr_y += 1\n",
    "\n",
    "    # If ptr_x is within the bounds of x and ptr_y is outside the bounds of y,\n",
    "    # then the mean is the element at ptr_x.\n",
    "    if ptr_x < len(x) and ptr_y == len(y):\n",
    "        mean = x[ptr_x]\n",
    "\n",
    "    # If ptr_x is outside the bounds of x and ptr_y is within the bounds of y,\n",
    "    # then the mean is the element at ptr_y.\n",
    "    if ptr_x == len(x) and ptr_y < len(y):\n",
    "        mean = y[ptr_y]\n",
    "\n",
    "    return mean\n",
    "\n",
    "\n",
    "results = []\n",
    "for n in range(10000):\n",
    "    l1 = sorted(np.random.random_integers(0, 10000, n))\n",
    "    l2 = sorted(np.random.random_integers(0, 10000, n))\n",
    "    find_mean_of_union(l1, l2)"
   ]
  }
 ],
 "metadata": {
  "kernelspec": {
   "display_name": "base",
   "language": "python",
   "name": "python3"
  },
  "language_info": {
   "codemirror_mode": {
    "name": "ipython",
    "version": 3
   },
   "file_extension": ".py",
   "mimetype": "text/x-python",
   "name": "python",
   "nbconvert_exporter": "python",
   "pygments_lexer": "ipython3",
   "version": "3.11.4"
  }
 },
 "nbformat": 4,
 "nbformat_minor": 2
}
