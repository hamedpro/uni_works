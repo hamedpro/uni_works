{
 "cells": [
  {
   "cell_type": "code",
   "execution_count": null,
   "metadata": {},
   "outputs": [],
   "source": [
    "import numpy as np\n",
    "import matplotlib.pyplot as plt\n",
    "import pandas as pd\n",
    "from sklearn.decomposition import PCA\n",
    "import math\n",
    "from pprint import pprint\n",
    "import random"
   ]
  },
  {
   "cell_type": "code",
   "execution_count": null,
   "metadata": {},
   "outputs": [],
   "source": [
    "np.random.seed(42)\n",
    "\n",
    "dry_bean = pd.read_csv(\"Dry_Bean.csv\")\n",
    "onehot_encoded_df = pd.get_dummies(dry_bean)"
   ]
  },
  {
   "cell_type": "code",
   "execution_count": null,
   "metadata": {},
   "outputs": [],
   "source": [
    "pca_model = PCA(n_components=2)\n",
    "pca_model.fit(onehot_encoded_df)\n",
    "\n",
    "df_2d = pd.DataFrame(pca_model.transform(onehot_encoded_df))"
   ]
  },
  {
   "cell_type": "code",
   "execution_count": null,
   "metadata": {},
   "outputs": [],
   "source": [
    "def gen_random_hex_colors(count):\n",
    "    results = []\n",
    "    for i in range(count):\n",
    "        color = random.randrange(0, 2**24)\n",
    "        hex_color = hex(color)\n",
    "        std_color = \"#\" + hex_color[2:]\n",
    "        results.append(std_color)\n",
    "    return results \n",
    "print(gen_random_hex_colors(3))"
   ]
  },
  {
   "cell_type": "code",
   "execution_count": null,
   "metadata": {},
   "outputs": [],
   "source": [
    "def kmeans(df, k):\n",
    "    epsilon = 0.001\n",
    "    # df must be 2d with these columns : 0, 1\n",
    "    def calc_distance(point1, point2):\n",
    "        return math.sqrt(\n",
    "            (point2[0] - point1[0]) ** 2 + (point2[1] - point1[1]) ** 2\n",
    "        )\n",
    "\n",
    "    def find_nearest_centroid(centroids, point):\n",
    "        distances = [calc_distance(point, centroid) for centroid in centroids]\n",
    "        if len(find_duplicates(distances)) != 0:\n",
    "            raise RuntimeError(\"Couldnt assign a centroid to a point : two centroids have the same distance with this point\")\n",
    "        index_of_min = distances.index(min(distances))\n",
    "        return centroids[index_of_min]\n",
    "    def find_mean_of_points(points):\n",
    "        return [\n",
    "            np.mean([point[0] for point in points]),\n",
    "            np.mean([point[1] for point in points]),\n",
    "        ]\n",
    "\n",
    "    def find_duplicates(array): # [1,2,2,4] -> [2]\n",
    "        results = []\n",
    "        for index, i in enumerate(array):\n",
    "            for index2, i2 in enumerate(array):\n",
    "                if i2 == i and index != index2:\n",
    "                    if not i in results:\n",
    "                        results.append(i)\n",
    "        return results\n",
    "\n",
    "    x_values = df[0]\n",
    "    y_values = df[1]\n",
    "    points = [[x_values[i], y_values[i]] for i in range(len(x_values))]\n",
    "\n",
    "    centroids = random.sample(points , k )\n",
    "    while True :\n",
    "        labeled_points = [\n",
    "            {\n",
    "                \"point\": point,\n",
    "                \"nearest_centroid\": find_nearest_centroid(centroids, point),\n",
    "            }\n",
    "            for point in points\n",
    "        ]\n",
    "       \n",
    "       \n",
    "        prev_centroids = centroids.copy()\n",
    "\n",
    "        centroids = []\n",
    "        for centroid in prev_centroids:\n",
    "            points_of_centroid = []\n",
    "            for labeled_point in labeled_points:\n",
    "                if labeled_point[\"nearest_centroid\"] == centroid:\n",
    "                    points_of_centroid.append(labeled_point[\"point\"])\n",
    "            centroids.append(find_mean_of_points(points_of_centroid + [centroid]))\n",
    "\n",
    "        \n",
    "        #if distance is equal to 0 then its obvious its smaller than esplison too \n",
    "        #so there is no need to check \n",
    "        bools = []\n",
    "        for i in range(len(centroids)):\n",
    "            if calc_distance(prev_centroids[i],centroids[i]) < epsilon:\n",
    "                bools.append(True)\n",
    "            else:\n",
    "                bools.append(False)\n",
    "        if all(bools) :\n",
    "            count = 0 \n",
    "            for centroid in prev_centroids:\n",
    "                cluster = [item['point']  for item in labeled_points if item['nearest_centroid'] == centroid]\n",
    "                count += len(cluster)\n",
    "                plt.scatter([point[0] for point in cluster ] ,[point[1] for point in cluster ] ,color =gen_random_hex_colors(1)[0] )\n",
    "            plt.scatter(\n",
    "                list(map(lambda centroid: centroid[0], prev_centroids)),\n",
    "                list(map(lambda centroid: centroid[1], prev_centroids)),\n",
    "                color=\"black\",\n",
    "            )\n",
    "            break\n",
    "    plt.show()\n"
   ]
  },
  {
   "cell_type": "code",
   "execution_count": null,
   "metadata": {},
   "outputs": [],
   "source": [
    "kmeans(df_2d, 5)"
   ]
  }
 ],
 "metadata": {
  "kernelspec": {
   "display_name": "Python 3",
   "language": "python",
   "name": "python3"
  },
  "language_info": {
   "codemirror_mode": {
    "name": "ipython",
    "version": 3
   },
   "file_extension": ".py",
   "mimetype": "text/x-python",
   "name": "python",
   "nbconvert_exporter": "python",
   "pygments_lexer": "ipython3",
   "version": "3.10.7"
  },
  "orig_nbformat": 4
 },
 "nbformat": 4,
 "nbformat_minor": 2
}
